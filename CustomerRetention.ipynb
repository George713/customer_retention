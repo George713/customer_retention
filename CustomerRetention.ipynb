{
 "cells": [
  {
   "cell_type": "markdown",
   "metadata": {},
   "source": [
    "# Data Science und zufriedene Kunden (in R)\n",
    "\n",
    "Heute stellen wir uns der Frage, ob und wie gut ein Unternehmen abschätzen kann, welche Kunden es demnächst verlieren könnte. Ist das angefertigte Modell gut genug, kann versucht werden, Maßnahmen zu implementieren, die dafür sorgen, dass der Kunde gehalten wird.\n",
    "\n",
    "Ich nehme schon einmal vorweg, dass wir uns dem Problem mittels *Deep Learning* bzw. einem *Artificial Neural Network* (kurz: *ANN*) nähern werden. Hier soll dabei die Theorie nur am Rande betrachtet werden, sondern viel mehr der Fokus auf der Benutzung der Server von *H2O* liegen.\n",
    "\n",
    "Was ist dieses *H2O*? Eine Firma mit dem Ziel, künstliche Intelligenz für jedermann verfügbar zu machen. So zumindest das selbsterklärte Firmenziel. Für uns ist an dieser Stelle nur eines relevant: ANNs können sehr rechenintensiv sein... und H2O gestattet uns, ihre Server zu nutzen. Wer also keine high-end Grafikkarte hat: weiterlesen!"
   ]
  },
  {
   "cell_type": "markdown",
   "metadata": {},
   "source": [
    "## Datensatz\n",
    "Unser Datensatz heute kommt von einer Bank (natürlich anonymisiert) und ist insofern etwas Besonderes, als dass ich mit ihm selbst das erste Mal *Deep Learning* betrieben habe. Ihr findet die Daten wieder auf Kaggle.com unter dem Namen *Churn_Modelling.csv*.\n",
    "\n",
    "Zunächst lesen wir einmal die Daten ein und schauen uns die ersten 10 Zeilen an:"
   ]
  },
  {
   "cell_type": "code",
   "execution_count": 6,
   "metadata": {},
   "outputs": [
    {
     "data": {
      "text/html": [
       "<table>\n",
       "<thead><tr><th scope=col>RowNumber</th><th scope=col>CustomerId</th><th scope=col>Surname</th><th scope=col>CreditScore</th><th scope=col>Geography</th><th scope=col>Gender</th><th scope=col>Age</th><th scope=col>Tenure</th><th scope=col>Balance</th><th scope=col>NumOfProducts</th><th scope=col>HasCrCard</th><th scope=col>IsActiveMember</th><th scope=col>EstimatedSalary</th><th scope=col>Exited</th></tr></thead>\n",
       "<tbody>\n",
       "\t<tr><td> 1       </td><td>15634602 </td><td>Hargrave </td><td>619      </td><td>France   </td><td>Female   </td><td>42       </td><td>2        </td><td>     0.00</td><td>1        </td><td>1        </td><td>1        </td><td>101348.88</td><td>1        </td></tr>\n",
       "\t<tr><td> 2       </td><td>15647311 </td><td>Hill     </td><td>608      </td><td>Spain    </td><td>Female   </td><td>41       </td><td>1        </td><td> 83807.86</td><td>1        </td><td>0        </td><td>1        </td><td>112542.58</td><td>0        </td></tr>\n",
       "\t<tr><td> 3       </td><td>15619304 </td><td>Onio     </td><td>502      </td><td>France   </td><td>Female   </td><td>42       </td><td>8        </td><td>159660.80</td><td>3        </td><td>1        </td><td>0        </td><td>113931.57</td><td>1        </td></tr>\n",
       "\t<tr><td> 4       </td><td>15701354 </td><td>Boni     </td><td>699      </td><td>France   </td><td>Female   </td><td>39       </td><td>1        </td><td>     0.00</td><td>2        </td><td>0        </td><td>0        </td><td> 93826.63</td><td>0        </td></tr>\n",
       "\t<tr><td> 5       </td><td>15737888 </td><td>Mitchell </td><td>850      </td><td>Spain    </td><td>Female   </td><td>43       </td><td>2        </td><td>125510.82</td><td>1        </td><td>1        </td><td>1        </td><td> 79084.10</td><td>0        </td></tr>\n",
       "\t<tr><td> 6       </td><td>15574012 </td><td>Chu      </td><td>645      </td><td>Spain    </td><td>Male     </td><td>44       </td><td>8        </td><td>113755.78</td><td>2        </td><td>1        </td><td>0        </td><td>149756.71</td><td>1        </td></tr>\n",
       "\t<tr><td> 7       </td><td>15592531 </td><td>Bartlett </td><td>822      </td><td>France   </td><td>Male     </td><td>50       </td><td>7        </td><td>     0.00</td><td>2        </td><td>1        </td><td>1        </td><td> 10062.80</td><td>0        </td></tr>\n",
       "\t<tr><td> 8       </td><td>15656148 </td><td>Obinna   </td><td>376      </td><td>Germany  </td><td>Female   </td><td>29       </td><td>4        </td><td>115046.74</td><td>4        </td><td>1        </td><td>0        </td><td>119346.88</td><td>1        </td></tr>\n",
       "\t<tr><td> 9       </td><td>15792365 </td><td>He       </td><td>501      </td><td>France   </td><td>Male     </td><td>44       </td><td>4        </td><td>142051.07</td><td>2        </td><td>0        </td><td>1        </td><td> 74940.50</td><td>0        </td></tr>\n",
       "\t<tr><td>10       </td><td>15592389 </td><td>H?       </td><td>684      </td><td>France   </td><td>Male     </td><td>27       </td><td>2        </td><td>134603.88</td><td>1        </td><td>1        </td><td>1        </td><td> 71725.73</td><td>0        </td></tr>\n",
       "</tbody>\n",
       "</table>\n"
      ],
      "text/latex": [
       "\\begin{tabular}{r|llllllllllllll}\n",
       " RowNumber & CustomerId & Surname & CreditScore & Geography & Gender & Age & Tenure & Balance & NumOfProducts & HasCrCard & IsActiveMember & EstimatedSalary & Exited\\\\\n",
       "\\hline\n",
       "\t  1        & 15634602  & Hargrave  & 619       & France    & Female    & 42        & 2         &      0.00 & 1         & 1         & 1         & 101348.88 & 1        \\\\\n",
       "\t  2        & 15647311  & Hill      & 608       & Spain     & Female    & 41        & 1         &  83807.86 & 1         & 0         & 1         & 112542.58 & 0        \\\\\n",
       "\t  3        & 15619304  & Onio      & 502       & France    & Female    & 42        & 8         & 159660.80 & 3         & 1         & 0         & 113931.57 & 1        \\\\\n",
       "\t  4        & 15701354  & Boni      & 699       & France    & Female    & 39        & 1         &      0.00 & 2         & 0         & 0         &  93826.63 & 0        \\\\\n",
       "\t  5        & 15737888  & Mitchell  & 850       & Spain     & Female    & 43        & 2         & 125510.82 & 1         & 1         & 1         &  79084.10 & 0        \\\\\n",
       "\t  6        & 15574012  & Chu       & 645       & Spain     & Male      & 44        & 8         & 113755.78 & 2         & 1         & 0         & 149756.71 & 1        \\\\\n",
       "\t  7        & 15592531  & Bartlett  & 822       & France    & Male      & 50        & 7         &      0.00 & 2         & 1         & 1         &  10062.80 & 0        \\\\\n",
       "\t  8        & 15656148  & Obinna    & 376       & Germany   & Female    & 29        & 4         & 115046.74 & 4         & 1         & 0         & 119346.88 & 1        \\\\\n",
       "\t  9        & 15792365  & He        & 501       & France    & Male      & 44        & 4         & 142051.07 & 2         & 0         & 1         &  74940.50 & 0        \\\\\n",
       "\t 10        & 15592389  & H?        & 684       & France    & Male      & 27        & 2         & 134603.88 & 1         & 1         & 1         &  71725.73 & 0        \\\\\n",
       "\\end{tabular}\n"
      ],
      "text/markdown": [
       "\n",
       "| RowNumber | CustomerId | Surname | CreditScore | Geography | Gender | Age | Tenure | Balance | NumOfProducts | HasCrCard | IsActiveMember | EstimatedSalary | Exited |\n",
       "|---|---|---|---|---|---|---|---|---|---|---|---|---|---|\n",
       "|  1        | 15634602  | Hargrave  | 619       | France    | Female    | 42        | 2         |      0.00 | 1         | 1         | 1         | 101348.88 | 1         |\n",
       "|  2        | 15647311  | Hill      | 608       | Spain     | Female    | 41        | 1         |  83807.86 | 1         | 0         | 1         | 112542.58 | 0         |\n",
       "|  3        | 15619304  | Onio      | 502       | France    | Female    | 42        | 8         | 159660.80 | 3         | 1         | 0         | 113931.57 | 1         |\n",
       "|  4        | 15701354  | Boni      | 699       | France    | Female    | 39        | 1         |      0.00 | 2         | 0         | 0         |  93826.63 | 0         |\n",
       "|  5        | 15737888  | Mitchell  | 850       | Spain     | Female    | 43        | 2         | 125510.82 | 1         | 1         | 1         |  79084.10 | 0         |\n",
       "|  6        | 15574012  | Chu       | 645       | Spain     | Male      | 44        | 8         | 113755.78 | 2         | 1         | 0         | 149756.71 | 1         |\n",
       "|  7        | 15592531  | Bartlett  | 822       | France    | Male      | 50        | 7         |      0.00 | 2         | 1         | 1         |  10062.80 | 0         |\n",
       "|  8        | 15656148  | Obinna    | 376       | Germany   | Female    | 29        | 4         | 115046.74 | 4         | 1         | 0         | 119346.88 | 1         |\n",
       "|  9        | 15792365  | He        | 501       | France    | Male      | 44        | 4         | 142051.07 | 2         | 0         | 1         |  74940.50 | 0         |\n",
       "| 10        | 15592389  | H?        | 684       | France    | Male      | 27        | 2         | 134603.88 | 1         | 1         | 1         |  71725.73 | 0         |\n",
       "\n"
      ],
      "text/plain": [
       "   RowNumber CustomerId Surname  CreditScore Geography Gender Age Tenure\n",
       "1   1        15634602   Hargrave 619         France    Female 42  2     \n",
       "2   2        15647311   Hill     608         Spain     Female 41  1     \n",
       "3   3        15619304   Onio     502         France    Female 42  8     \n",
       "4   4        15701354   Boni     699         France    Female 39  1     \n",
       "5   5        15737888   Mitchell 850         Spain     Female 43  2     \n",
       "6   6        15574012   Chu      645         Spain     Male   44  8     \n",
       "7   7        15592531   Bartlett 822         France    Male   50  7     \n",
       "8   8        15656148   Obinna   376         Germany   Female 29  4     \n",
       "9   9        15792365   He       501         France    Male   44  4     \n",
       "10 10        15592389   H?       684         France    Male   27  2     \n",
       "   Balance   NumOfProducts HasCrCard IsActiveMember EstimatedSalary Exited\n",
       "1       0.00 1             1         1              101348.88       1     \n",
       "2   83807.86 1             0         1              112542.58       0     \n",
       "3  159660.80 3             1         0              113931.57       1     \n",
       "4       0.00 2             0         0               93826.63       0     \n",
       "5  125510.82 1             1         1               79084.10       0     \n",
       "6  113755.78 2             1         0              149756.71       1     \n",
       "7       0.00 2             1         1               10062.80       0     \n",
       "8  115046.74 4             1         0              119346.88       1     \n",
       "9  142051.07 2             0         1               74940.50       0     \n",
       "10 134603.88 1             1         1               71725.73       0     "
      ]
     },
     "metadata": {},
     "output_type": "display_data"
    }
   ],
   "source": [
    "# Importing the dataset\n",
    "dataset = read.csv('Churn_Modelling.csv')\n",
    "dataset[1:10,]"
   ]
  },
  {
   "cell_type": "markdown",
   "metadata": {},
   "source": [
    "Die ersten drei Spalten enthalten die Zeilennummer, die jeweilige Kunden-ID und den Nachnamen des Kunden - also die Informationen, die benötigt werden, um den Kunden zu identifizieren. Oder anders formuliert die Daten, die für unsere Analyse aller Wahrscheinlichkeit keine Bedeutung haben.\n",
    "\n",
    "Also: Raus damit!"
   ]
  },
  {
   "cell_type": "code",
   "execution_count": 7,
   "metadata": {},
   "outputs": [],
   "source": [
    "# Adjusting the dataset\n",
    "dataset = dataset[4:14]"
   ]
  },
  {
   "cell_type": "markdown",
   "metadata": {},
   "source": [
    "Jetzt wird es schon interessanter: *Credit Score*, Heimatland (*Geography*), Geschlecht usw.. In der letzten Spalte kommt dann das, weshalb wir uns die Daten überhaupt anschauen - der aktuelle Kundenstatus. \"1\" für ehemalige Kunden, \"0\" für Bestandskunden.\n",
    "\n",
    "Bis auf das Heimatland und das Geschlecht liegt alles auch schon in numerischer Form vor. Passen wir also noch schnell diese zwei Spalten an, Stichwort *Encoding*. In R verwenden wir hierfür die *factor*-Funktion, mit der wir einem Vektor aus Levels einen Vektor aus Labeln zuordnen können. In unserem Fall wollen wir natürlich Zahlen als Label für unsere Daten haben. Um das korrekte Format zu bekommen, schieben wir dem Ganzen dann noch die Funktion *as.numeric* vor:"
   ]
  },
  {
   "cell_type": "code",
   "execution_count": 8,
   "metadata": {},
   "outputs": [
    {
     "data": {
      "text/html": [
       "<table>\n",
       "<thead><tr><th scope=col>CreditScore</th><th scope=col>Geography</th><th scope=col>Gender</th><th scope=col>Age</th><th scope=col>Tenure</th><th scope=col>Balance</th><th scope=col>NumOfProducts</th><th scope=col>HasCrCard</th><th scope=col>IsActiveMember</th><th scope=col>EstimatedSalary</th><th scope=col>Exited</th></tr></thead>\n",
       "<tbody>\n",
       "\t<tr><td>619      </td><td>1        </td><td>2        </td><td>42       </td><td>2        </td><td>     0.00</td><td>1        </td><td>1        </td><td>1        </td><td>101348.88</td><td>1        </td></tr>\n",
       "\t<tr><td>608      </td><td>2        </td><td>2        </td><td>41       </td><td>1        </td><td> 83807.86</td><td>1        </td><td>0        </td><td>1        </td><td>112542.58</td><td>0        </td></tr>\n",
       "\t<tr><td>502      </td><td>1        </td><td>2        </td><td>42       </td><td>8        </td><td>159660.80</td><td>3        </td><td>1        </td><td>0        </td><td>113931.57</td><td>1        </td></tr>\n",
       "\t<tr><td>699      </td><td>1        </td><td>2        </td><td>39       </td><td>1        </td><td>     0.00</td><td>2        </td><td>0        </td><td>0        </td><td> 93826.63</td><td>0        </td></tr>\n",
       "\t<tr><td>850      </td><td>2        </td><td>2        </td><td>43       </td><td>2        </td><td>125510.82</td><td>1        </td><td>1        </td><td>1        </td><td> 79084.10</td><td>0        </td></tr>\n",
       "</tbody>\n",
       "</table>\n"
      ],
      "text/latex": [
       "\\begin{tabular}{r|lllllllllll}\n",
       " CreditScore & Geography & Gender & Age & Tenure & Balance & NumOfProducts & HasCrCard & IsActiveMember & EstimatedSalary & Exited\\\\\n",
       "\\hline\n",
       "\t 619       & 1         & 2         & 42        & 2         &      0.00 & 1         & 1         & 1         & 101348.88 & 1        \\\\\n",
       "\t 608       & 2         & 2         & 41        & 1         &  83807.86 & 1         & 0         & 1         & 112542.58 & 0        \\\\\n",
       "\t 502       & 1         & 2         & 42        & 8         & 159660.80 & 3         & 1         & 0         & 113931.57 & 1        \\\\\n",
       "\t 699       & 1         & 2         & 39        & 1         &      0.00 & 2         & 0         & 0         &  93826.63 & 0        \\\\\n",
       "\t 850       & 2         & 2         & 43        & 2         & 125510.82 & 1         & 1         & 1         &  79084.10 & 0        \\\\\n",
       "\\end{tabular}\n"
      ],
      "text/markdown": [
       "\n",
       "| CreditScore | Geography | Gender | Age | Tenure | Balance | NumOfProducts | HasCrCard | IsActiveMember | EstimatedSalary | Exited |\n",
       "|---|---|---|---|---|---|---|---|---|---|---|\n",
       "| 619       | 1         | 2         | 42        | 2         |      0.00 | 1         | 1         | 1         | 101348.88 | 1         |\n",
       "| 608       | 2         | 2         | 41        | 1         |  83807.86 | 1         | 0         | 1         | 112542.58 | 0         |\n",
       "| 502       | 1         | 2         | 42        | 8         | 159660.80 | 3         | 1         | 0         | 113931.57 | 1         |\n",
       "| 699       | 1         | 2         | 39        | 1         |      0.00 | 2         | 0         | 0         |  93826.63 | 0         |\n",
       "| 850       | 2         | 2         | 43        | 2         | 125510.82 | 1         | 1         | 1         |  79084.10 | 0         |\n",
       "\n"
      ],
      "text/plain": [
       "  CreditScore Geography Gender Age Tenure Balance   NumOfProducts HasCrCard\n",
       "1 619         1         2      42  2           0.00 1             1        \n",
       "2 608         2         2      41  1       83807.86 1             0        \n",
       "3 502         1         2      42  8      159660.80 3             1        \n",
       "4 699         1         2      39  1           0.00 2             0        \n",
       "5 850         2         2      43  2      125510.82 1             1        \n",
       "  IsActiveMember EstimatedSalary Exited\n",
       "1 1              101348.88       1     \n",
       "2 1              112542.58       0     \n",
       "3 0              113931.57       1     \n",
       "4 0               93826.63       0     \n",
       "5 1               79084.10       0     "
      ]
     },
     "metadata": {},
     "output_type": "display_data"
    }
   ],
   "source": [
    "# Enconding the categorical variables as factors (using 'as.numeric()' for deep learning package)\n",
    "dataset$Geography = as.numeric(factor(dataset$Geography,\n",
    "                                      levels = c('France', 'Spain', 'Germany'),\n",
    "                                      labels = c(1, 2, 3)))\n",
    "dataset$Gender = as.numeric(factor(dataset$Gender,\n",
    "                           levels = c('Male', 'Female'),\n",
    "                           labels = c(1, 2)))\n",
    "dataset[1:5,]"
   ]
  },
  {
   "cell_type": "markdown",
   "metadata": {},
   "source": [
    "Nun teilen wir unser Datenset wie gewohnt in ein Trainings- und ein Testset. Hierbei hilft uns die *caTools*-Bibliothek. Zum Installieren verwendet man einfach den *install.packages*-Befehl, wie unten zu sehen. Ich habe die Bibliothek schon installiert, also kommentiere ich den Befehl aus und lade nur noch die Bibliothek via *library(caTools)*. Aus den Daten definieren wir dann 75-90% der Daten als Trainingsset und den Rest als Testset. Hier wähle ich ein Verhältnis von 80:20 von Trainings- zu Testdaten.\n",
    "\n",
    "Schließlich müssen wir noch *Feature Scaling* betreiben. Das bedeutet, dass wir die Werte, die unsere unabhängigen Variablen annehmen können, auf eine gleichmäßige Reichweite beschränken. Mathematisch gesehen ist dies für neuronale Netzwerke nicht nötig, aber ohne *Feature Scaling* würde das Training des Netzwerks ewig dauern. Hier hilft uns der *scale*-Befehl. Beachtet, dass wir unsere abhängige Variable nicht skalieren wollen - sie liegt ohnehin schon bei \"0\" oder \"1\". Aus diesem Grund ignorieren wir die 11. Spalte."
   ]
  },
  {
   "cell_type": "code",
   "execution_count": 9,
   "metadata": {},
   "outputs": [
    {
     "data": {
      "text/html": [
       "<table>\n",
       "<thead><tr><th></th><th scope=col>CreditScore</th><th scope=col>Geography</th><th scope=col>Gender</th><th scope=col>Age</th><th scope=col>Tenure</th><th scope=col>Balance</th><th scope=col>NumOfProducts</th><th scope=col>HasCrCard</th><th scope=col>IsActiveMember</th><th scope=col>EstimatedSalary</th><th scope=col>Exited</th></tr></thead>\n",
       "<tbody>\n",
       "\t<tr><th scope=row>1</th><td>-0.32756459</td><td>-0.8895031 </td><td> 1.0929950 </td><td>0.2962052  </td><td>-1.0313943 </td><td>-1.2190517 </td><td>-0.9111120 </td><td>0.6518863  </td><td> 0.970619  </td><td> 0.0216855 </td><td>1          </td></tr>\n",
       "\t<tr><th scope=row>3</th><td>-1.53810353</td><td>-0.8895031 </td><td> 1.0929950 </td><td>0.2962052  </td><td> 1.0432370 </td><td> 1.3330389 </td><td> 2.5466186 </td><td>0.6518863  </td><td>-1.030142  </td><td> 0.2400424 </td><td>1          </td></tr>\n",
       "\t<tr><th scope=row>5</th><td> 2.06247381</td><td> 0.3202937 </td><td> 1.0929950 </td><td>0.3914787  </td><td>-1.0313943 </td><td> 0.7871702 </td><td>-0.9111120 </td><td>0.6518863  </td><td> 0.970619  </td><td>-0.3646920 </td><td>0          </td></tr>\n",
       "\t<tr><th scope=row>6</th><td>-0.05855594</td><td> 0.3202937 </td><td>-0.9148029 </td><td>0.4867522  </td><td> 1.0432370 </td><td> 0.5992723 </td><td> 0.8177533 </td><td>0.6518863  </td><td>-1.030142  </td><td> 0.8617430 </td><td>1          </td></tr>\n",
       "\t<tr><th scope=row>7</th><td> 1.77277219</td><td>-0.8895031 </td><td>-0.9148029 </td><td>1.0583930  </td><td> 0.6974651 </td><td>-1.2190517 </td><td> 0.8177533 </td><td>0.6518863  </td><td> 0.970619  </td><td>-1.5624706 </td><td>0          </td></tr>\n",
       "</tbody>\n",
       "</table>\n"
      ],
      "text/latex": [
       "\\begin{tabular}{r|lllllllllll}\n",
       "  & CreditScore & Geography & Gender & Age & Tenure & Balance & NumOfProducts & HasCrCard & IsActiveMember & EstimatedSalary & Exited\\\\\n",
       "\\hline\n",
       "\t1 & -0.32756459 & -0.8895031  &  1.0929950  & 0.2962052   & -1.0313943  & -1.2190517  & -0.9111120  & 0.6518863   &  0.970619   &  0.0216855  & 1          \\\\\n",
       "\t3 & -1.53810353 & -0.8895031  &  1.0929950  & 0.2962052   &  1.0432370  &  1.3330389  &  2.5466186  & 0.6518863   & -1.030142   &  0.2400424  & 1          \\\\\n",
       "\t5 &  2.06247381 &  0.3202937  &  1.0929950  & 0.3914787   & -1.0313943  &  0.7871702  & -0.9111120  & 0.6518863   &  0.970619   & -0.3646920  & 0          \\\\\n",
       "\t6 & -0.05855594 &  0.3202937  & -0.9148029  & 0.4867522   &  1.0432370  &  0.5992723  &  0.8177533  & 0.6518863   & -1.030142   &  0.8617430  & 1          \\\\\n",
       "\t7 &  1.77277219 & -0.8895031  & -0.9148029  & 1.0583930   &  0.6974651  & -1.2190517  &  0.8177533  & 0.6518863   &  0.970619   & -1.5624706  & 0          \\\\\n",
       "\\end{tabular}\n"
      ],
      "text/markdown": [
       "\n",
       "| <!--/--> | CreditScore | Geography | Gender | Age | Tenure | Balance | NumOfProducts | HasCrCard | IsActiveMember | EstimatedSalary | Exited |\n",
       "|---|---|---|---|---|---|---|---|---|---|---|---|\n",
       "| 1 | -0.32756459 | -0.8895031  |  1.0929950  | 0.2962052   | -1.0313943  | -1.2190517  | -0.9111120  | 0.6518863   |  0.970619   |  0.0216855  | 1           |\n",
       "| 3 | -1.53810353 | -0.8895031  |  1.0929950  | 0.2962052   |  1.0432370  |  1.3330389  |  2.5466186  | 0.6518863   | -1.030142   |  0.2400424  | 1           |\n",
       "| 5 |  2.06247381 |  0.3202937  |  1.0929950  | 0.3914787   | -1.0313943  |  0.7871702  | -0.9111120  | 0.6518863   |  0.970619   | -0.3646920  | 0           |\n",
       "| 6 | -0.05855594 |  0.3202937  | -0.9148029  | 0.4867522   |  1.0432370  |  0.5992723  |  0.8177533  | 0.6518863   | -1.030142   |  0.8617430  | 1           |\n",
       "| 7 |  1.77277219 | -0.8895031  | -0.9148029  | 1.0583930   |  0.6974651  | -1.2190517  |  0.8177533  | 0.6518863   |  0.970619   | -1.5624706  | 0           |\n",
       "\n"
      ],
      "text/plain": [
       "  CreditScore Geography  Gender     Age       Tenure     Balance   \n",
       "1 -0.32756459 -0.8895031  1.0929950 0.2962052 -1.0313943 -1.2190517\n",
       "3 -1.53810353 -0.8895031  1.0929950 0.2962052  1.0432370  1.3330389\n",
       "5  2.06247381  0.3202937  1.0929950 0.3914787 -1.0313943  0.7871702\n",
       "6 -0.05855594  0.3202937 -0.9148029 0.4867522  1.0432370  0.5992723\n",
       "7  1.77277219 -0.8895031 -0.9148029 1.0583930  0.6974651 -1.2190517\n",
       "  NumOfProducts HasCrCard IsActiveMember EstimatedSalary Exited\n",
       "1 -0.9111120    0.6518863  0.970619       0.0216855      1     \n",
       "3  2.5466186    0.6518863 -1.030142       0.2400424      1     \n",
       "5 -0.9111120    0.6518863  0.970619      -0.3646920      0     \n",
       "6  0.8177533    0.6518863 -1.030142       0.8617430      1     \n",
       "7  0.8177533    0.6518863  0.970619      -1.5624706      0     "
      ]
     },
     "metadata": {},
     "output_type": "display_data"
    }
   ],
   "source": [
    "# install.packages('caTools')\n",
    "library(caTools)\n",
    "set.seed(123)\n",
    "split = sample.split(dataset$Exited, SplitRatio = 0.8)\n",
    "training_set = subset(dataset, split == TRUE)\n",
    "test_set = subset(dataset, split == FALSE)\n",
    "\n",
    "# Feature Scaling\n",
    "training_set[-11] = scale(training_set[-11])\n",
    "test_set[-11] = scale(test_set[-11])\n",
    "\n",
    "training_set[1:5,]"
   ]
  },
  {
   "cell_type": "markdown",
   "metadata": {},
   "source": [
    "## Modell - Deep Learning\n",
    "\n",
    "Nun kommen wir zum spannenden Teil - unser künstliches neuronales Netzwerk. Wir erinnern uns, wie das Schema hierfür aussehen soll: Das Netzwerk besteht aus mehreren Schichten (Layern), welche wiederum aus Neuronen zusammengesetzt sind. Das erste (Input-)Layer wird aus unseren Input-Variablen gebildet, das letzte, sogenannte Output-Layer hingegen beschreibt, ob das Netzwerk denkt, dass ein Kunde das Unternehmen verlassen wird. Dazwischen liegen die versteckten oder zu englisch *hidden* Layer, die wir über mehrere Zyklen (Epochen) trainieren werden.\n",
    "\n",
    "Nun aber zur Benutzung von H2O. Zunächst muss wieder die entsprechende Bibliothek installiert sein. Dieses Mal ist sie auch etwas größer, aber es lohnt sich! Nachdem wir die Bibliothek dann geladen haben, stellen wir eine Verbindung mit den H2O-Servern her. Hierfür nutzen wir das Kommando *h2o.init()*. Zusätzlich geben wir hier eine Option hinzu, die die Anzahl an verwendeten Rechenkernen bestimmt: *nthreads*. Da wir keinen bestimmten Server definiert haben (was man aber durchaus könnte), wissen wir nicht genau, wieviele Kerne uns zur Verfügung stehen. Wählt man aber den Wert \"-1\", werden schlicht alle Kerne verwendet. Und genau dies wollen wir.\n",
    "\n",
    "Schließlich erstellen wir unser Deep-Learning-Modell mittels *h2o.deeplearning*. Wichtig ist hier, dass unser Trainingsset als h2o-Objekt geladen wird. Dies erreichen wir mittels der Funktion *as.h2o*. Für die Aktivierungsfunktion empfehle ich die *Rectifier*-Funktion. (Der interessierte Leser wird hier online schnell fündig.) Für die hidden Layer definieren wir anschließend deren Anzahl, sowie die Menge an Neuronen pro Layer. Was hier die beste Konfiguration ist, lässt sich nicht genau sagen, aber als Faustregel sollte man sich am Mittelwert von Input- und Output-Neuronen orientieren. In unserem Fall bedeutet dies mit 10 Input-Neuronen + 1 Output-Neuron, dass wir gerundet etwa 6 Layer mit jeweils 6 Neuronen verwenden sollten. Schließlich definieren wir die Anzahl an Epochen, die das Netzwerk lernen soll, und wie häufig dabei die Gewichte (*weights*) zwischen den Neuronen aktulisiert werden. Letzteres wird mit der Option *train_samples_per_iteration* festgelegt, wobei der Wert \"-2\" eine automatisches Tuning veranlasst und uns die Arbeit abnimmt. And that's it!"
   ]
  },
  {
   "cell_type": "code",
   "execution_count": 10,
   "metadata": {
    "collapsed": true,
    "jupyter": {
     "outputs_hidden": true
    }
   },
   "outputs": [
    {
     "name": "stdout",
     "output_type": "stream",
     "text": [
      " Connection successful!\n",
      "\n",
      "R is connected to the H2O cluster: \n",
      "    H2O cluster uptime:         26 minutes 38 seconds \n",
      "    H2O cluster timezone:       Europe/Berlin \n",
      "    H2O data parsing timezone:  UTC \n",
      "    H2O cluster version:        3.26.0.2 \n",
      "    H2O cluster version age:    3 months and 11 days !!! \n",
      "    H2O cluster name:           H2O_started_from_R_george_qif010 \n",
      "    H2O cluster total nodes:    1 \n",
      "    H2O cluster total memory:   1.92 GB \n",
      "    H2O cluster total cores:    8 \n",
      "    H2O cluster allowed cores:  8 \n",
      "    H2O cluster healthy:        TRUE \n",
      "    H2O Connection ip:          localhost \n",
      "    H2O Connection port:        54321 \n",
      "    H2O Connection proxy:       NA \n",
      "    H2O Internal Security:      FALSE \n",
      "    H2O API Extensions:         Amazon S3, XGBoost, Algos, AutoML, Core V3, Core V4 \n",
      "    R Version:                  R version 3.6.1 (2019-07-05) \n"
     ]
    },
    {
     "name": "stderr",
     "output_type": "stream",
     "text": [
      "Warning message in h2o.clusterInfo():\n",
      "“\n",
      "Your H2O cluster version is too old (3 months and 11 days)!\n",
      "Please download and install the latest version from http://h2o.ai/download/”"
     ]
    },
    {
     "name": "stdout",
     "output_type": "stream",
     "text": [
      "\n",
      "  |======================================================================| 100%\n",
      "  |======================================================================| 100%\n"
     ]
    }
   ],
   "source": [
    "# install.packages('h2o')\n",
    "library(h2o)\n",
    "h2o.init(nthreads = -1)\n",
    "classifier = h2o.deeplearning(y = 'Exited',\n",
    "                              training_frame = as.h2o(training_set),\n",
    "                              activation = 'Rectifier',\n",
    "                              hidden = c(6,6),\n",
    "                              epochs = 100,\n",
    "                              train_samples_per_iteration = -2)"
   ]
  },
  {
   "cell_type": "markdown",
   "metadata": {},
   "source": [
    "Ging doch ziemlich schnell! Glaubt mir, auf unseren Heim-PCs wäre das eine ganz andere Hausnummer gewesen.\n",
    "\n",
    "Nun nutzen wir unseren classifier und wenden ihn auf unser Testset an. Zur Erinnerung: Im Trainingsset gab es zwei Typen von Kunden - die ehemaligen (Wert 1), und die Noch-Kunden (Wert 0). Unser Output-Neuron ist allerdings nicht binär, sondern liegt zwischen im Intervall von 0 bis 1. Je höher der Wert, desto wahrscheinlicher ist es, dass der Kunde bald das Unternehmen verlassen wird. Zum Abgleich mit dem tatsächlichen Kunden-Status, transformieren wir das Intervall (0 bis 1) wieder ins Binäre, wobei Werte größer als 0,5 auf 1 gesetzt werden, und alle anderen auf 0."
   ]
  },
  {
   "cell_type": "code",
   "execution_count": 11,
   "metadata": {
    "collapsed": true,
    "jupyter": {
     "outputs_hidden": true
    }
   },
   "outputs": [
    {
     "name": "stdout",
     "output_type": "stream",
     "text": [
      "  |======================================================================| 100%\n",
      "  |======================================================================| 100%\n"
     ]
    }
   ],
   "source": [
    "# Predicting the Test set results\n",
    "prop_pred = h2o.predict(classifier, newdata = as.h2o(test_set[-11]))\n",
    "y_pred = (prop_pred > 0.5)\n",
    "y_pred = as.vector(y_pred)"
   ]
  },
  {
   "cell_type": "markdown",
   "metadata": {},
   "source": [
    "## Auswertung\n",
    "\n",
    "Die Stunde der Wahrheit. Wie gut hat unser Modell abgeschnitten? Wir befragen die *Confusion Matrix*. Zur Erinnerung: Die Zeilen geben den realen Wert an, die Spalten den geschätzten. Entsprechend sind die Einträge auf der Diagonalen die korrekten und die auf der Antidiagonalen die falschen Prognosen. Die Summe der Diagonaleinträge geteilt durch die Summe aller Einträge liefert uns dann die Genauigkeit (*accuracy*) unseres Modells."
   ]
  },
  {
   "cell_type": "code",
   "execution_count": 12,
   "metadata": {},
   "outputs": [
    {
     "data": {
      "text/plain": [
       "   y_pred\n",
       "       0    1\n",
       "  0 1532   61\n",
       "  1  211  196"
      ]
     },
     "metadata": {},
     "output_type": "display_data"
    },
    {
     "data": {
      "text/html": [
       "0.864"
      ],
      "text/latex": [
       "0.864"
      ],
      "text/markdown": [
       "0.864"
      ],
      "text/plain": [
       "[1] 0.864"
      ]
     },
     "metadata": {},
     "output_type": "display_data"
    }
   ],
   "source": [
    "# Making the Confusion Matrix\n",
    "cm = table(test_set[, 11], y_pred)\n",
    "cm\n",
    "(cm[1,1]+cm[2,2])/2000"
   ]
  },
  {
   "cell_type": "markdown",
   "metadata": {},
   "source": [
    "86%! Das ist deutlich besser als blindes Raten mit 50% Trefferquote. Allerdings geht das noch deutlich besser, was an dieser Stelle aber nicht ausgeführt werden soll. Nun beenden wir noch die Verbindung zum H2O-Server und freuen uns schon auf das nächste Mal, wenn wir H2O verwenden. Tolles Tool!"
   ]
  },
  {
   "cell_type": "code",
   "execution_count": 13,
   "metadata": {},
   "outputs": [
    {
     "name": "stdin",
     "output_type": "stream",
     "text": [
      "Are you sure you want to shutdown the H2O instance running at http://localhost:54321/ (Y/N)?  Y\n"
     ]
    },
    {
     "data": {
      "text/html": [
       "TRUE"
      ],
      "text/latex": [
       "TRUE"
      ],
      "text/markdown": [
       "TRUE"
      ],
      "text/plain": [
       "[1] TRUE"
      ]
     },
     "metadata": {},
     "output_type": "display_data"
    }
   ],
   "source": [
    "h2o.shutdown()"
   ]
  }
 ],
 "metadata": {
  "kernelspec": {
   "display_name": "R",
   "language": "R",
   "name": "ir"
  },
  "language_info": {
   "codemirror_mode": "r",
   "file_extension": ".r",
   "mimetype": "text/x-r-source",
   "name": "R",
   "pygments_lexer": "r",
   "version": "3.6.1"
  }
 },
 "nbformat": 4,
 "nbformat_minor": 4
}
